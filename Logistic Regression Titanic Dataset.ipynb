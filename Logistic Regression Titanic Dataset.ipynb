{
 "cells": [
  {
   "cell_type": "code",
   "execution_count": null,
   "metadata": {},
   "outputs": [],
   "source": [
    "#Projects 1\n",
    "# Titamic Data Analysics4\n",
    "#Explore titamic dataset and explore about the people both those who survived and those who did not .With today\"s technology answering \n",
    "# question through data analysicsis now easier than ever.\n",
    "w#what factors made people more likely to survive the sinking of the Titanic\n",
    "\n",
    "#Project2 \n",
    "#A car company has released a new SUV in the market .Using the previous data about the scales of their  SUV ,they want to predict \n",
    "#the category of people who might be interested in buying this.\n",
    "# what factors made people more interested in buying SUV\n",
    "\n"
   ]
  },
  {
   "cell_type": "code",
   "execution_count": null,
   "metadata": {},
   "outputs": [],
   "source": [
    "#Project 1\n",
    "import pandas as pd\n",
    "import numpy as np\n",
    "import seaborn as sns\n",
    "import matplotlib.pyplot as plt\n",
    "import math\n",
    "%matplotlib inline\n",
    "titanic_data=pd.read_excel(\"Titanic.xlsx\")\n",
    "titanic_data"
   ]
  }
 ],
 "metadata": {
  "kernelspec": {
   "display_name": "Python 3",
   "language": "python",
   "name": "python3"
  },
  "language_info": {
   "codemirror_mode": {
    "name": "ipython",
    "version": 3
   },
   "file_extension": ".py",
   "mimetype": "text/x-python",
   "name": "python",
   "nbconvert_exporter": "python",
   "pygments_lexer": "ipython3",
   "version": "3.7.6"
  }
 },
 "nbformat": 4,
 "nbformat_minor": 4
}
